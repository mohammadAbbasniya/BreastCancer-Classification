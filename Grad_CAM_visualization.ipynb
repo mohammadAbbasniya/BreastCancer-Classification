{
  "nbformat": 4,
  "nbformat_minor": 0,
  "metadata": {
    "colab": {
      "name": "Grad_CAM visualization.ipynb",
      "provenance": [],
      "collapsed_sections": [
        "zMNH3RI87S9e",
        "ruW4SIHEBWSp"
      ]
    },
    "kernelspec": {
      "display_name": "Python 3",
      "name": "python3"
    },
    "language_info": {
      "name": "python"
    }
  },
  "cells": [
    {
      "cell_type": "markdown",
      "metadata": {
        "id": "BmdVvnMI7CcI"
      },
      "source": [
        "# Grad-CAM class activation visualization using `Keras Applications` \n",
        "\n",
        "\n",
        "\n",
        "\n",
        "*    on [BreaKHis](https://web.inf.ufpr.br/vri/databases/breast-cancer-histopathological-database-breakhis) dataseet \n",
        "\n",
        "*   the code adopted from [keras Grad-CAM doc](https://keras.io/examples/vision/grad_cam) by [fchollet](https://twitter.com/fchollet)\n",
        "\n",
        "\n",
        "\n",
        "\n",
        " "
      ]
    },
    {
      "cell_type": "markdown",
      "metadata": {
        "id": "zMNH3RI87S9e"
      },
      "source": [
        "## import libraries and connect to drive"
      ]
    },
    {
      "cell_type": "code",
      "metadata": {
        "id": "C4F-cAEZ8UKG",
        "colab": {
          "base_uri": "https://localhost:8080/"
        },
        "outputId": "7f30ce1f-cc57-44de-fc16-65ef23b9870e"
      },
      "source": [
        "import numpy as np\n",
        "import matplotlib.pyplot as plt\n",
        "import tensorflow as tf\n",
        "import matplotlib.pyplot as plt\n",
        "from IPython.display import display\n",
        "import matplotlib.cm as cm\n",
        "from tensorflow.keras.preprocessing import image\n",
        "import tensorflow.keras.applications as k_apps\n",
        "import glob\n",
        "import shutil\n",
        "print(tf.version)\n",
        "\n",
        "from google.colab import drive\n",
        "drive.mount('/content/drive')\n",
        "\n",
        "working_dir = 'drive/MyDrive/article-97/'"
      ],
      "execution_count": null,
      "outputs": [
        {
          "output_type": "stream",
          "name": "stdout",
          "text": [
            "<module 'tensorflow._api.v2.version' from '/usr/local/lib/python3.7/dist-packages/tensorflow/_api/v2/version/__init__.py'>\n",
            "Drive already mounted at /content/drive; to attempt to forcibly remount, call drive.mount(\"/content/drive\", force_remount=True).\n"
          ]
        }
      ]
    },
    {
      "cell_type": "markdown",
      "metadata": {
        "id": "P5GdvkaMrwWC"
      },
      "source": [
        "## Grad-CAM"
      ]
    },
    {
      "cell_type": "markdown",
      "source": [
        "### initialize model and source images "
      ],
      "metadata": {
        "id": "9Su8cIHTBQa5"
      }
    },
    {
      "cell_type": "code",
      "source": [
        "src = [\n",
        "    {'fn':'1_B_TA',  'heatmap':None,  'gradcam':None,  'path': 'drive/MyDrive/article-97/tf_files/breast_40/benign/SOB_B_TA-14-21978AB-40-001.png'},\n",
        "    {'fn':'2_B_TA',  'heatmap':None,  'gradcam':None,  'path': 'drive/MyDrive/article-97/tf_files/breast_40/benign/SOB_B_TA-14-21978AB-40-005.png'},\n",
        "    {'fn':'3_B_TA',  'heatmap':None,  'gradcam':None,  'path': 'drive/MyDrive/article-97/tf_files/breast_40/benign/SOB_B_TA-14-21978AB-40-002.png'},\n",
        "    {'fn':'4_B_TA',  'heatmap':None,  'gradcam':None,  'path': 'drive/MyDrive/article-97/tf_files/breast_40/benign/SOB_B_TA-14-21978AB-40-004.png'},\n",
        "    {'fn':'5_B_TA',  'heatmap':None,  'gradcam':None,  'path': 'drive/MyDrive/article-97/tf_files/breast_40/benign/SOB_B_TA-14-21978AB-40-006.png'},\n",
        "    {'fn':'1_B_PT',  'heatmap':None,  'gradcam':None,  'path': 'drive/MyDrive/article-97/tf_files/breast_40/benign/SOB_B_PT-14-22704-40-002.png'},\n",
        "    {'fn':'2_B_PT',  'heatmap':None,  'gradcam':None,  'path': 'drive/MyDrive/article-97/tf_files/breast_40/benign/SOB_B_PT-14-22704-40-001.png'},\n",
        "    {'fn':'3_B_PT',  'heatmap':None,  'gradcam':None,  'path': 'drive/MyDrive/article-97/tf_files/breast_40/benign/SOB_B_PT-14-22704-40-004.png'},\n",
        "    {'fn':'4_B_PT',  'heatmap':None,  'gradcam':None,  'path': 'drive/MyDrive/article-97/tf_files/breast_40/benign/SOB_B_PT-14-22704-40-003.png'},\n",
        "    {'fn':'5_B_PT',  'heatmap':None,  'gradcam':None,  'path': 'drive/MyDrive/article-97/tf_files/breast_40/benign/SOB_B_PT-14-22704-40-005.png'},\n",
        "    {'fn':'1_B_F',  'heatmap':None,  'gradcam':None,  'path': 'drive/MyDrive/article-97/tf_files/breast_40/benign/SOB_B_F-14-23060AB-40-004.png'},\n",
        "    {'fn':'2_B_F',  'heatmap':None,  'gradcam':None,  'path': 'drive/MyDrive/article-97/tf_files/breast_40/benign/SOB_B_F-14-23060AB-40-002.png'},\n",
        "    {'fn':'3_B_F',  'heatmap':None,  'gradcam':None,  'path': 'drive/MyDrive/article-97/tf_files/breast_40/benign/SOB_B_F-14-23060AB-40-008.png'},\n",
        "    {'fn':'4_B_F',  'heatmap':None,  'gradcam':None,  'path': 'drive/MyDrive/article-97/tf_files/breast_40/benign/SOB_B_F-14-23060AB-40-003.png'},\n",
        "    {'fn':'5_B_F',  'heatmap':None,  'gradcam':None,  'path': 'drive/MyDrive/article-97/tf_files/breast_40/benign/SOB_B_F-14-23060AB-40-010.png'},\n",
        "    {'fn':'1_B_A',  'heatmap':None,  'gradcam':None,  'path': 'drive/MyDrive/article-97/tf_files/breast_40/benign/SOB_B_A-14-29960CD-40-004.png'},\n",
        "    {'fn':'2_B_A',  'heatmap':None,  'gradcam':None,  'path': 'drive/MyDrive/article-97/tf_files/breast_40/benign/SOB_B_A-14-29960CD-40-002.png'},\n",
        "    {'fn':'3_B_A',  'heatmap':None,  'gradcam':None,  'path': 'drive/MyDrive/article-97/tf_files/breast_40/benign/SOB_B_A-14-29960CD-40-001.png'},\n",
        "    {'fn':'4_B_A',  'heatmap':None,  'gradcam':None,  'path': 'drive/MyDrive/article-97/tf_files/breast_40/benign/SOB_B_A-14-29960CD-40-005.png'},\n",
        "    {'fn':'5_B_A',  'heatmap':None,  'gradcam':None,  'path': 'drive/MyDrive/article-97/tf_files/breast_40/benign/SOB_B_A-14-29960CD-40-003.png'},\n",
        "    {'fn':'1_M_DC',  'heatmap':None,  'gradcam':None,  'path': 'drive/MyDrive/article-97/tf_files/breast_40/malignant/SOB_M_DC-14-13993-40-017.png'},\n",
        "    {'fn':'2_M_DC',  'heatmap':None,  'gradcam':None,  'path': 'drive/MyDrive/article-97/tf_files/breast_40/malignant/SOB_M_DC-14-13993-40-014.png'},\n",
        "    {'fn':'3_M_DC',  'heatmap':None,  'gradcam':None,  'path': 'drive/MyDrive/article-97/tf_files/breast_40/malignant/SOB_M_DC-14-13993-40-013.png'},\n",
        "    {'fn':'4_M_DC',  'heatmap':None,  'gradcam':None,  'path': 'drive/MyDrive/article-97/tf_files/breast_40/malignant/SOB_M_DC-14-13993-40-012.png'},\n",
        "    {'fn':'5_M_DC',  'heatmap':None,  'gradcam':None,  'path': 'drive/MyDrive/article-97/tf_files/breast_40/malignant/SOB_M_DC-14-13993-40-016.png'},\n",
        "    {'fn':'1_M_PC',  'heatmap':None,  'gradcam':None,  'path': 'drive/MyDrive/article-97/tf_files/breast_40/malignant/SOB_M_PC-14-19440-40-001.png'},\n",
        "    {'fn':'2_M_PC',  'heatmap':None,  'gradcam':None,  'path': 'drive/MyDrive/article-97/tf_files/breast_40/malignant/SOB_M_PC-14-19440-40-003.png'},\n",
        "    {'fn':'3_M_PC',  'heatmap':None,  'gradcam':None,  'path': 'drive/MyDrive/article-97/tf_files/breast_40/malignant/SOB_M_PC-14-19440-40-002.png'},\n",
        "    {'fn':'4_M_PC',  'heatmap':None,  'gradcam':None,  'path': 'drive/MyDrive/article-97/tf_files/breast_40/malignant/SOB_M_PC-14-19440-40-005.png'},\n",
        "    {'fn':'5_M_PC',  'heatmap':None,  'gradcam':None,  'path': 'drive/MyDrive/article-97/tf_files/breast_40/malignant/SOB_M_PC-14-19440-40-004.png'},\n",
        "    {'fn':'1_M_LC',  'heatmap':None,  'gradcam':None,  'path': 'drive/MyDrive/article-97/tf_files/breast_40/malignant/SOB_M_LC-14-15570C-40-003.png'},\n",
        "    {'fn':'2_M_LC',  'heatmap':None,  'gradcam':None,  'path': 'drive/MyDrive/article-97/tf_files/breast_40/malignant/SOB_M_LC-14-15570C-40-002.png'},\n",
        "    {'fn':'3_M_LC',  'heatmap':None,  'gradcam':None,  'path': 'drive/MyDrive/article-97/tf_files/breast_40/malignant/SOB_M_LC-14-15570C-40-001.png'},\n",
        "    {'fn':'4_M_LC',  'heatmap':None,  'gradcam':None,  'path': 'drive/MyDrive/article-97/tf_files/breast_40/malignant/SOB_M_LC-14-15570C-40-008.png'},\n",
        "    {'fn':'5_M_LC',  'heatmap':None,  'gradcam':None,  'path': 'drive/MyDrive/article-97/tf_files/breast_40/malignant/SOB_M_LC-14-15570C-40-006.png'},\n",
        "    {'fn':'1_M_MC',  'heatmap':None,  'gradcam':None,  'path': 'drive/MyDrive/article-97/tf_files/breast_40/malignant/SOB_M_MC-14-13413-40-003.png'},\n",
        "    {'fn':'2_M_MC',  'heatmap':None,  'gradcam':None,  'path': 'drive/MyDrive/article-97/tf_files/breast_40/malignant/SOB_M_MC-14-13413-40-005.png'},\n",
        "    {'fn':'3_M_MC',  'heatmap':None,  'gradcam':None,  'path': 'drive/MyDrive/article-97/tf_files/breast_40/malignant/SOB_M_MC-14-13413-40-002.png'},\n",
        "    {'fn':'4_M_MC',  'heatmap':None,  'gradcam':None,  'path': 'drive/MyDrive/article-97/tf_files/breast_40/malignant/SOB_M_MC-14-13413-40-004.png'},\n",
        "    {'fn':'5_M_MC',  'heatmap':None,  'gradcam':None,  'path': 'drive/MyDrive/article-97/tf_files/breast_40/malignant/SOB_M_MC-14-13413-40-006.png'},\n",
        "]\n",
        "\n",
        "model_builder = k_apps.inception_resnet_v2.InceptionResNetV2\n",
        "preprocess_input = k_apps.inception_resnet_v2.preprocess_input\n",
        "activation = 'conv_7b_ac'\n",
        "\n",
        "img_size = (299, 299)\n",
        "\n",
        "model = model_builder(weights=\"imagenet\")\n",
        "model.layers[-1].activation = None"
      ],
      "metadata": {
        "id": "5unrce4PozDG",
        "colab": {
          "base_uri": "https://localhost:8080/"
        },
        "outputId": "da385b98-318f-4d00-a843-e7d798bd2a7f"
      },
      "execution_count": null,
      "outputs": [
        {
          "output_type": "stream",
          "name": "stdout",
          "text": [
            "Downloading data from https://storage.googleapis.com/tensorflow/keras-applications/inception_resnet_v2/inception_resnet_v2_weights_tf_dim_ordering_tf_kernels.h5\n",
            "225214464/225209952 [==============================] - 1s 0us/step\n",
            "225222656/225209952 [==============================] - 1s 0us/step\n"
          ]
        }
      ]
    },
    {
      "cell_type": "markdown",
      "source": [
        "### compute heatmap array and superimposed image"
      ],
      "metadata": {
        "id": "ruW4SIHEBWSp"
      }
    },
    {
      "cell_type": "code",
      "source": [
        "\n",
        "def make_gradcam_heatmap(img_array, model, last_conv_layer_name, pred_index=None):\n",
        "    # First, we create a model that maps the input image to the activations\n",
        "    # of the last conv layer as well as the output predictions\n",
        "    grad_model = tf.keras.models.Model(\n",
        "        [model.inputs], [model.get_layer(last_conv_layer_name).output, model.output]\n",
        "    )\n",
        "\n",
        "    # Then, we compute the gradient of the top predicted class for our input image\n",
        "    # with respect to the activations of the last conv layer\n",
        "    with tf.GradientTape() as tape:\n",
        "        last_conv_layer_output, preds = grad_model(img_array)\n",
        "        if pred_index is None:\n",
        "            pred_index = tf.argmax(preds[0])\n",
        "        class_channel = preds[:, pred_index]\n",
        "\n",
        "    # This is the gradient of the output neuron (top predicted or chosen)\n",
        "    # with regard to the output feature map of the last conv layer\n",
        "    grads = tape.gradient(class_channel, last_conv_layer_output)\n",
        "\n",
        "    # This is a vector where each entry is the mean intensity of the gradient\n",
        "    # over a specific feature map channel\n",
        "    pooled_grads = tf.reduce_mean(grads, axis=(0, 1, 2))\n",
        "\n",
        "    # We multiply each channel in the feature map array\n",
        "    # by \"how important this channel is\" with regard to the top predicted class\n",
        "    # then sum all the channels to obtain the heatmap class activation\n",
        "    last_conv_layer_output = last_conv_layer_output[0]\n",
        "    heatmap = last_conv_layer_output @ pooled_grads[..., tf.newaxis]\n",
        "    heatmap = tf.squeeze(heatmap)\n",
        "\n",
        "    # For visualization purpose, we will also normalize the heatmap between 0 & 1\n",
        "    heatmap = tf.maximum(heatmap, 0) / tf.math.reduce_max(heatmap)\n",
        "    return heatmap.numpy()\n",
        "\n",
        "\n",
        "def gradcam(img_path, heatmap, alpha=0.4):\n",
        "    # Load the original image\n",
        "    img = image.load_img(img_path)\n",
        "    img = image.img_to_array(img)\n",
        "\n",
        "    # Rescale heatmap to a range 0-255\n",
        "    heatmap = np.uint8(255 * heatmap)\n",
        "\n",
        "    # Use jet colormap to colorize heatmap\n",
        "    jet = cm.get_cmap(\"jet\")\n",
        "\n",
        "    # Use RGB values of the colormap\n",
        "    jet_colors = jet(np.arange(256))[:, :3]\n",
        "    jet_heatmap = jet_colors[heatmap]\n",
        "\n",
        "    # Create an image with RGB colorized heatmap\n",
        "    jet_heatmap = image.array_to_img(jet_heatmap)\n",
        "    jet_heatmap = jet_heatmap.resize((img.shape[1], img.shape[0]))\n",
        "    jet_heatmap = image.img_to_array(jet_heatmap)\n",
        "\n",
        "    # Superimpose the heatmap on original image\n",
        "    superimposed_img = jet_heatmap * alpha + img\n",
        "    superimposed_img = image.array_to_img(superimposed_img)\n",
        "\n",
        "    return superimposed_img\n",
        "\n",
        "def save_res(sr):\n",
        "  print('Saving  ' + sr['path'])\n",
        "  display(image.load_img(sr['path']))\n",
        "  plt.matshow(sr['heatmap'])\n",
        "  display(sr['gradcam'])\n",
        "\n",
        "\n",
        "\n",
        "\n",
        "for i in range(len(src)):\n",
        "  img = image.load_img(src[i]['path'], target_size=img_size)\n",
        "  img = image.img_to_array(img)\n",
        "  img = np.expand_dims(img, axis=0)\n",
        "  img = preprocess_input(img)\n",
        "  src[i]['heatmap'] = make_gradcam_heatmap(img, model, activation)\n",
        "  src[i]['gradcam'] = gradcam(src[i]['path'], src[i]['heatmap'])\n"
      ],
      "metadata": {
        "id": "Of7ObFZrkleh"
      },
      "execution_count": null,
      "outputs": []
    },
    {
      "cell_type": "markdown",
      "source": [
        "### save results"
      ],
      "metadata": {
        "id": "KSIIFjXvB_oa"
      }
    },
    {
      "cell_type": "code",
      "source": [
        "dir  = working_dir + 'grad_cam/'\n",
        "for s in src:\n",
        "  plt.rcParams.update({'figure.figsize': (15,15)})\n",
        "  plt.matshow(s['heatmap'])\n",
        "  plt.savefig(dir+s['fn']+'_hmp.png' , format=\"png\", bbox_inches='tight')\n",
        "  plt.close()\n",
        "\n",
        "  s['gradcam'].save(dir+s['fn']+'_gdc.png')\n",
        "\n",
        "  shutil.copyfile(s['path'], dir+s['fn']+'_org.png')\n"
      ],
      "metadata": {
        "id": "308sOhbMq5TO"
      },
      "execution_count": null,
      "outputs": []
    }
  ]
}